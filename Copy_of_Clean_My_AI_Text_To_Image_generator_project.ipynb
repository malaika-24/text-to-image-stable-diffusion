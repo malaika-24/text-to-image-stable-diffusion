{
  "nbformat": 4,
  "nbformat_minor": 0,
  "metadata": {
    "colab": {
      "provenance": [],
      "gpuType": "T4"
    },
    "kernelspec": {
      "name": "python3",
      "display_name": "Python 3"
    },
    "language_info": {
      "name": "python"
    },
    "accelerator": "GPU"
  },
  "cells": [
    {
      "cell_type": "code",
      "execution_count": null,
      "metadata": {
        "id": "8OVNtIMTWaNb"
      },
      "outputs": [],
      "source": [
        "!pip install diffusers transformers accelerate --upgrade\n",
        "!pip install safetensors"
      ]
    },
    {
      "cell_type": "code",
      "source": [
        "import torch\n",
        "from diffusers import StableDiffusionPipeline\n",
        "import matplotlib.pyplot as plt"
      ],
      "metadata": {
        "id": "sJ46QrPWX8uD"
      },
      "execution_count": null,
      "outputs": []
    },
    {
      "cell_type": "code",
      "source": [
        "from huggingface_hub import login\n",
        "from getpass import getpass\n",
        "\n",
        "login(getpass(\"Enter your Hugging Face token: \"))\n",
        "\n"
      ],
      "metadata": {
        "id": "uf9E8qKTZMoJ"
      },
      "execution_count": null,
      "outputs": []
    },
    {
      "cell_type": "code",
      "source": [
        "\n",
        "\n",
        "pipe = StableDiffusionPipeline.from_pretrained(\n",
        "    \"runwayml/stable-diffusion-v1-5\",\n",
        "    torch_dtype=torch.float16,\n",
        "    use_safetensors =True).to(\"cuda\")"
      ],
      "metadata": {
        "id": "UQN9cN0TaPLe"
      },
      "execution_count": null,
      "outputs": []
    },
    {
      "cell_type": "code",
      "source": [
        "user_prompt = input(\"Enter your image prompt: \")\n",
        "image = pipe(user_prompt).images[0]\n",
        "# Display the generated image\n",
        "plt.imshow(image)\n",
        "plt.axis('off')\n",
        "plt.title('Generated Image')\n",
        "plt.show()"
      ],
      "metadata": {
        "id": "IMdWT5H9bxXZ"
      },
      "execution_count": null,
      "outputs": []
    },
    {
      "cell_type": "markdown",
      "source": [
        "create interface streamlite\n"
      ],
      "metadata": {
        "id": "ROqqOXi8exS_"
      }
    },
    {
      "cell_type": "code",
      "source": [],
      "metadata": {
        "id": "O19JFDCzdnQX"
      },
      "execution_count": null,
      "outputs": []
    }
  ]
}